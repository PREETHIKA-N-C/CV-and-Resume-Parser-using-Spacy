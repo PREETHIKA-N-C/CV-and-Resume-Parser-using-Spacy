{
  "nbformat": 4,
  "nbformat_minor": 0,
  "metadata": {
    "colab": {
      "provenance": []
    },
    "kernelspec": {
      "name": "python3",
      "display_name": "Python 3"
    },
    "language_info": {
      "name": "python"
    }
  },
  "cells": [
    {
      "cell_type": "code",
      "execution_count": 67,
      "metadata": {
        "colab": {
          "base_uri": "https://localhost:8080/"
        },
        "id": "DdQKWci82znt",
        "outputId": "fbe16f8c-0632-4ab7-a98c-7471a827dd6a"
      },
      "outputs": [
        {
          "output_type": "stream",
          "name": "stdout",
          "text": [
            "Collecting PyMuPDF\n",
            "  Downloading PyMuPDF-1.23.6-cp310-none-manylinux2014_x86_64.whl (4.3 MB)\n",
            "\u001b[2K     \u001b[90m━━━━━━━━━━━━━━━━━━━━━━━━━━━━━━━━━━━━━━━━\u001b[0m \u001b[32m4.3/4.3 MB\u001b[0m \u001b[31m28.0 MB/s\u001b[0m eta \u001b[36m0:00:00\u001b[0m\n",
            "\u001b[?25hCollecting PyMuPDFb==1.23.6 (from PyMuPDF)\n",
            "  Downloading PyMuPDFb-1.23.6-py3-none-manylinux2014_x86_64.manylinux_2_17_x86_64.whl (30.6 MB)\n",
            "\u001b[2K     \u001b[90m━━━━━━━━━━━━━━━━━━━━━━━━━━━━━━━━━━━━━━━━\u001b[0m \u001b[32m30.6/30.6 MB\u001b[0m \u001b[31m33.2 MB/s\u001b[0m eta \u001b[36m0:00:00\u001b[0m\n",
            "\u001b[?25hInstalling collected packages: PyMuPDFb, PyMuPDF\n",
            "Successfully installed PyMuPDF-1.23.6 PyMuPDFb-1.23.6\n"
          ]
        }
      ],
      "source": [
        "import spacy\n",
        "import pickle\n",
        "import random\n",
        "import warnings\n",
        "warnings.filterwarnings(\"ignore\", category=UserWarning)\n",
        "from spacy.training.example import Example\n",
        "!pip install PyMuPDF\n",
        "import sys, fitz"
      ]
    },
    {
      "cell_type": "code",
      "source": [
        "print(spacy.__version__)"
      ],
      "metadata": {
        "colab": {
          "base_uri": "https://localhost:8080/"
        },
        "id": "4tHUfk8CU-mP",
        "outputId": "c8986b74-a55e-4c8e-82a1-17615be1851f"
      },
      "execution_count": 56,
      "outputs": [
        {
          "output_type": "stream",
          "name": "stdout",
          "text": [
            "3.6.1\n"
          ]
        }
      ]
    },
    {
      "cell_type": "code",
      "source": [
        "train_data = pickle.load(open('/content/train_data.pkl', 'rb'))"
      ],
      "metadata": {
        "id": "7JqU-UNOc65x"
      },
      "execution_count": 57,
      "outputs": []
    },
    {
      "cell_type": "code",
      "source": [
        "nlp = spacy.blank('en')"
      ],
      "metadata": {
        "id": "S4DIz2za3uhp"
      },
      "execution_count": 58,
      "outputs": []
    },
    {
      "cell_type": "code",
      "source": [
        "def train_model(nlp, train_data):\n",
        "    # Check if the NER component is already in the pipeline\n",
        "    if 'ner' not in nlp.pipe_names:\n",
        "        ner = nlp.add_pipe('ner', last=True)\n",
        "    else:\n",
        "        ner = nlp.get_pipe('ner')\n",
        "\n",
        "    # Add labels to the NER component\n",
        "    for _, annotations in train_data:\n",
        "        for ent in annotations['entities']:\n",
        "            ner.add_label(ent[2])\n",
        "\n",
        "    # Disable other pipelines\n",
        "    other_pipes = [pipe for pipe in nlp.pipe_names if pipe != 'ner']\n",
        "\n",
        "    with nlp.disable_pipes(*other_pipes):\n",
        "        optimizer = nlp.begin_training()\n",
        "\n",
        "        for epoch in range(10):\n",
        "            print(f\"Iteration {epoch} starting...\")\n",
        "            random.shuffle(train_data)\n",
        "            losses = {}\n",
        "\n",
        "            for text, annotations in train_data:\n",
        "                try:\n",
        "                    example = Example.from_dict(nlp.make_doc(text), annotations)\n",
        "                    nlp.update([example], drop=0.5, losses=losses, sgd=optimizer)\n",
        "                except Exception as e:\n",
        "                    pass\n",
        "\n",
        "            print(losses)\n",
        "\n",
        "# Train the model\n",
        "train_model(nlp, train_data)"
      ],
      "metadata": {
        "colab": {
          "base_uri": "https://localhost:8080/"
        },
        "id": "ywis1q2K4K93",
        "outputId": "2f220a35-4282-408b-b49e-f613543a636e"
      },
      "execution_count": 59,
      "outputs": [
        {
          "output_type": "stream",
          "name": "stdout",
          "text": [
            "Iteration 0 starting...\n",
            "{'ner': 9754.011212417252}\n",
            "Iteration 1 starting...\n",
            "{'ner': 2526.3056880638883}\n",
            "Iteration 2 starting...\n",
            "{'ner': 3008.422235473373}\n",
            "Iteration 3 starting...\n",
            "{'ner': 2567.606096365564}\n",
            "Iteration 4 starting...\n",
            "{'ner': 3618.537945499982}\n",
            "Iteration 5 starting...\n",
            "{'ner': 3008.6558368077945}\n",
            "Iteration 6 starting...\n",
            "{'ner': 2187.97859475291}\n",
            "Iteration 7 starting...\n",
            "{'ner': 2222.87023687919}\n",
            "Iteration 8 starting...\n",
            "{'ner': 2781.973001506483}\n",
            "Iteration 9 starting...\n",
            "{'ner': 2199.890924898274}\n"
          ]
        }
      ]
    },
    {
      "cell_type": "code",
      "source": [
        "nlp.to_disk('nlp_model2')"
      ],
      "metadata": {
        "id": "lbPMxSW-83qH"
      },
      "execution_count": 60,
      "outputs": []
    },
    {
      "cell_type": "code",
      "source": [
        "nlp_model = spacy.load('/content/nlp_model2')"
      ],
      "metadata": {
        "id": "z2SZvsHKJPmQ"
      },
      "execution_count": 61,
      "outputs": []
    },
    {
      "cell_type": "code",
      "source": [
        "train_data[0][0]"
      ],
      "metadata": {
        "colab": {
          "base_uri": "https://localhost:8080/",
          "height": 139
        },
        "id": "zp2ZpDncJ3IY",
        "outputId": "a780de89-a1b8-4020-a47b-4d7716c3600d"
      },
      "execution_count": 62,
      "outputs": [
        {
          "output_type": "execute_result",
          "data": {
            "text/plain": [
              "'Navas Koya Test Engineer  Mangalore, Karnataka - Email me on Indeed: indeed.com/r/Navas-Koya/23c1e4e94779b465  Willing to relocate to: Mangalore, Karnataka - Bangalore, Karnataka - Chennai, Tamil Nadu  WORK EXPERIENCE  System Engineer  Infosys -  August 2014 to Present  .NET application Maintenance and do the code changes if required  Test Engineer  Infosys -  June 2015 to February 2016  PrProject 2:  Title: RBS W&G Proving testing. Technology: Manual testing Role: Software Test Engineer  Domain: Banking Description:  Write test cases & descriptions. Review the entries. Upload and map the documents into HP QC. Execute the testing operations in TPROD mainframe. Upload the result in QC along with the proof. Roles and Responsibilities: •Prepared the Test Scenarios  •Prepared and Executed Test Cases •Performed functional, Regression testing, Sanity testing.  •Reviewed the Test Reports and Preparing Test Summary Report. •Upload Test cases to the QC. •Execute in TPROD Mainframe. •Defect Track and Report.  Test Executive  Infosys Limited -  August 2014 to May 2015  https://www.indeed.com/r/Navas-Koya/23c1e4e94779b465?isid=rex-download&ikw=download-top&co=IN   Project 1: Title: CAWP (Compliance Automated Work Paper)  Technology: Manual testing Role: Software Test Executive Domain: Banking Description: The Admin can create and maintain annual test plan, and users can only view and add details. Testers will get Business Requirement which explains the flows and Functional requirements which gives the full detail of the project. Roles and Responsibilities:  •Prepared the Test Scenarios •Prepared and Executed Test Cases •Performed functional, Regression testing, Sanity testing. •Reviewed the Test Reports and Preparing Test Summary Report. •Defect Track and Report.  EDUCATION  Bachelor of Computer Applications  Mangalore University, Mangalore  June 2011 to April 2014  SKILLS  C# (Less than 1 year), .NET, SQL Server, Css, Html5  ADDITIONAL INFORMATION  Bachelor of computer application: with 74% from Milagres College, Kallianpur under Mangalore University, Karnataka.  Navas Najeer Koya 2  SKILL SET • ASP.NET, C# • QA tools  • Coding and modularization • Excellent communication skills  • VB, VB.net, ASP • Technical specifications creation  • HTML • System backups  • Sql server 2005, Oracle • System upgrades  • Java/C/C++ • Excellent problem-solving abilities  Navas Najeer Koya 3'"
            ],
            "application/vnd.google.colaboratory.intrinsic+json": {
              "type": "string"
            }
          },
          "metadata": {},
          "execution_count": 62
        }
      ]
    },
    {
      "cell_type": "code",
      "source": [
        "doc = nlp_model(train_data[0][0])\n",
        "for ent in doc.ents:\n",
        "    print(f'{ent.label_.upper():{30}}- {ent.text}')"
      ],
      "metadata": {
        "colab": {
          "base_uri": "https://localhost:8080/"
        },
        "id": "FYrsUs8TJ5ud",
        "outputId": "73a3a6f5-874b-469a-f4f9-728709bf6106"
      },
      "execution_count": 63,
      "outputs": [
        {
          "output_type": "stream",
          "name": "stdout",
          "text": [
            "NAME                          - Navas Koya\n",
            "LOCATION                      - Mangalore\n",
            "LOCATION                      - Mangalore\n",
            "LOCATION                      - Chennai\n",
            "DESIGNATION                   - System Engineer\n",
            "COMPANIES WORKED AT           - Infosys\n",
            "COMPANIES WORKED AT           - Infosys\n",
            "COMPANIES WORKED AT           - Infosys Limited\n",
            "DEGREE                        - Bachelor of Computer Applications\n",
            "LOCATION                      - Mangalore\n",
            "DEGREE                        - Bachelor of computer application:\n",
            "LOCATION                      - Mangalore\n"
          ]
        }
      ]
    },
    {
      "cell_type": "code",
      "source": [
        "fname = '/content/Smith Resume.pdf'\n",
        "doc = fitz.open(fname)\n",
        "text = \"\"\n",
        "for page in doc:\n",
        "    text += page.get_text(\"text\")\n",
        "#replace new line with space\n",
        "tx = \" \".join(text.split('\\n'))\n",
        "print(tx)"
      ],
      "metadata": {
        "colab": {
          "base_uri": "https://localhost:8080/"
        },
        "id": "IKOcrzACJ_44",
        "outputId": "2ef5b662-162d-48fc-b902-63ae5b194913"
      },
      "execution_count": 69,
      "outputs": [
        {
          "output_type": "stream",
          "name": "stdout",
          "text": [
            "Michael Smith  BI / Big Data/ Azure  Manchester, UK- Email me on Indeed: indeed.com/r/falicent/140749dace5dc26f    10+ years of Experience in Designing, Development, Administration, Analysis,  Management  inthe  Business  Intelligence  Data  warehousing,  Client  Server  Technologies, Web-based Applications, cloud solutions and Databases.  Data warehouse: Data analysis, star/ snow flake schema data modeling and design  specific todata warehousing and business intelligence environment.  Database: Experience in database designing, scalability, back-up and recovery,  writing andoptimizing SQL code and Stored Procedures, creating functions, views,  triggers and indexes.   Cloud platform: Worked on Microsoft Azure cloud services like Document DB, SQL  Azure, StreamAnalytics, Event hub, Power BI, Web Job, Web App, Power BI, Azure  data lake analytics(U-SQL).  Big Data: Worked Azure data lake store/analytics for big data processing and Azure  data factoryto schedule U-SQL jobs. Designed and developed end to end big data  solution for data insights.     Willing to relocate: Anywhere  WORK EXPERIENCESoftware Engineer  Microsoft - Manchester, UK.  December 2015 to Present  1. Microsoft Rewards Live dashboards:  Description: - Microsoft rewards is loyalty program that rewards Users for  browsing and shopping online. Microsoft Rewards members can earn points when  searching with Bing, browsing with Microsoft Edge and making purchases at the  Xbox Store, the Windows Store and the Microsoft Store. Plus, user can pick up  bonus points for taking daily quizzes and tours on the Microsoft rewards website.  Rewards live dashboards gives a live picture of usage world-wide and by markets  like US, Canada, Australia, new user registration count, top/bottom performing  rewards offers, orders stats and weekly trends of user activities, orders and new  user registrations. the PBI tiles gets refreshed in different frequencies starting  from 5 seconds to 30 minutes.  Technology/Tools used  Event hub, stream analytics and Power BI.  Responsibilities  Created stream analytics jobs to process event hub data  Created Power BI live dashboard to show live usage traffic, weekly trends, cards,  charts to showtop/bottom 10 offers and usage metrics.  2. Microsoft Rewards Data Insights:  Description: - Microsoft rewards is loyalty program that rewards Users for  browsing and shopping online. Microsoft Rewards members can earn points when  searching with Bing, browsing with Microsoft Edge and making purchases at the  Xbox Store, the Windows Store and the Microsoft Store. Plus, user can pick up  bonus points for taking daily quizzes and tours on the Microsoft rewards website.  Rewards data insights is data analytics and reporting platform, processes 20  million users daily activities and redemption across different markets like US,  Canada, Australia.  Technology/Tools used  Cosmos (Microsoft big-data platform), c#, X-flow job monitoring, Power BI.  Responsibilities  Created big data scripts in cosmos  C# data extractors, processors and reducers for data transformation  Power BI dashboards  3. End to end tracking Tool:  Description: - This is real-time Tracking tool to track different business  transactions like order, order response, functional acknowledgement, invoice  flowing inside ICOE. It gives flexibility to customers to track their transactions  and appropriate error information in-case of any failure. Based on resource based  access control the tool gives flexibility to end user to perform different actions  like view transactions, search based on different filter criteria and view and  download actual message payload. End to end tracking tool stitches all the  business transaction like order to cash flow and connects different hops inside  ICOE like gateway, routing server, Processing server. It also connects different  systems like ICOE, partner end point and SAP.  Technology/Tools used  Azure Document db, Azure web job and Web APP, RBAC, Angular JS.  Responsibilities  Document dB stored procedures.  Web job to process event hub data and populate Document db• Web App API.  Stream analytics job to transform data  Power BI reports  4. Biztrack Tracking Tool:  Description: - This is real-time Tracking tool to track different business  transactions like order, order response, functional acknowledgement, invoice  flowing inside ICOE. It gives flexibility to customers to track their transactions  and appropriate error information in-case of any failure. Based on resource based  access control the tool gives flexibility to end user to perform different actions  like view transactions, search based on different filter criteria and view and  download actual message payload.  Technology/Tools used  SQL server 2014, SSIS, .net API, Angular JS.  Responsibilities  ETL solution to transform business transactions data stored in Biztalk tables.  SQL azure tables, stored procedures, User defined functions.  Performance tuning.  Web API enhancements.    EDUCATION  The University of Manchester - UK  2007    SKILLS  problem solving (Less than 1 year), project lifecycle (Less than 1 year), project  manager (Less than 1 year), technical assistance. (Less than 1 year)  ADDITIONAL INFORMATION  Professional Skills  Excellent analytical, problem solving, communication, knowledge transfer and  interpersonalskills with ability to interact with individuals at all the levels  Quick learner and maintains cordial relationship with project manager and team  members andgood performer both in team and independent job environments  Positive attitude towards superiors &amp; peers  Supervised junior developers throughout project lifecycle and provided technical  assistance.  \n"
          ]
        }
      ]
    },
    {
      "cell_type": "code",
      "source": [
        "doc = nlp_model(tx)\n",
        "#Formatting label and text\n",
        "for ent in doc.ents:\n",
        "    print(f'{ent.label_.upper():{30}}- {ent.text}')"
      ],
      "metadata": {
        "colab": {
          "base_uri": "https://localhost:8080/"
        },
        "id": "mlLTO82xKDsQ",
        "outputId": "4436e9c1-e1e4-4d60-c33d-b8d73bd4bbcc"
      },
      "execution_count": 70,
      "outputs": [
        {
          "output_type": "stream",
          "name": "stdout",
          "text": [
            "NAME                          - Michael Smith\n",
            "LOCATION                      - Manchester\n",
            "COMPANIES WORKED AT           - Microsoft\n",
            "LOCATION                      - Manchester\n",
            "COMPANIES WORKED AT           - Microsoft\n",
            "COMPANIES WORKED AT           - Microsoft\n",
            "COMPANIES WORKED AT           - Microsoft\n",
            "COMPANIES WORKED AT           - Microsoft\n",
            "COMPANIES WORKED AT           - Microsoft\n",
            "COMPANIES WORKED AT           - Microsoft\n",
            "COLLEGE NAME                  - The University of Manchester - UK  2007    SKILLS  problem solving (Less than 1 year), project lifecycle (Less than 1 year), project  manager (Less than 1 year), technical assistance. (Less than 1 year)  ADDITIONAL INFORMATION  Professional Skills  Excellent analytical, problem solving, communication, knowledge transfer and  interpersonalskills with ability to interact with individuals at all the levels  Quick learner and maintains cordial relationship with project manager and team  members andgood performer both in team and independent job environments  Positive attitude towards superiors &amp; peers  Supervised junior developers throughout project lifecycle and provided technical  assistance.  \n"
          ]
        }
      ]
    },
    {
      "cell_type": "code",
      "source": [],
      "metadata": {
        "id": "lMxN2ZyvsHbU"
      },
      "execution_count": null,
      "outputs": []
    }
  ]
}